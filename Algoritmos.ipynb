{
  "nbformat": 4,
  "nbformat_minor": 0,
  "metadata": {
    "colab": {
      "name": "Algoritmos.ipynb",
      "provenance": [],
      "collapsed_sections": [],
      "include_colab_link": true
    },
    "kernelspec": {
      "display_name": "Python 3",
      "language": "python",
      "name": "python3"
    }
  },
  "cells": [
    {
      "cell_type": "markdown",
      "metadata": {
        "id": "view-in-github",
        "colab_type": "text"
      },
      "source": [
        "<a href=\"https://colab.research.google.com/github/willamesalmeida/Algoritmos/blob/master/Algoritmos.ipynb\" target=\"_parent\"><img src=\"https://colab.research.google.com/assets/colab-badge.svg\" alt=\"Open In Colab\"/></a>"
      ]
    },
    {
      "cell_type": "markdown",
      "metadata": {
        "id": "pDM2GQy0bL_W",
        "colab_type": "text"
      },
      "source": [
        "## Introdução"
      ]
    },
    {
      "cell_type": "markdown",
      "metadata": {
        "id": "eFloztypYmCB",
        "colab_type": "text"
      },
      "source": [
        "O Counting Sort é um dos algoritmos lineares de ordenação que serve para classificar uma coleção de objetos, cuja sua complexidade é $O(n + k)$, no pior caso, onde $n$ é o número de elementos e todos os elementos estão no intervalo limitado de $1$ a $k$. \n",
        "\n"
      ]
    },
    {
      "cell_type": "markdown",
      "metadata": {
        "id": "pucV3hE-eT3w",
        "colab_type": "text"
      },
      "source": [
        "## Ordenação interna/externa."
      ]
    },
    {
      "cell_type": "markdown",
      "metadata": {
        "id": "KBHzJCQZedo8",
        "colab_type": "text"
      },
      "source": [
        "Algoritmos que trabalham com grandes quantidades de dados possuem duas classificações: interna e externa. Na ordenação interna, é quando um na operação de ordenação, o método não precisa de um espaço auxiliar para funcionar, como é o caso do Quick sort. Já na ordenação externa, necessita de um local de armazenamento auxiliar, como é o caso do Counting sort, em suas operações ele necessita de vetores (listas ou arrays) auxiliares para que os dados possam ser manipulados.\n"
      ]
    },
    {
      "cell_type": "markdown",
      "metadata": {
        "id": "7fzSpod6bE5t",
        "colab_type": "text"
      },
      "source": [
        "## Experimento\n",
        "\n"
      ]
    },
    {
      "cell_type": "markdown",
      "metadata": {
        "id": "pNbV4nb5eQuJ",
        "colab_type": "text"
      },
      "source": [
        "### Especificação do ambiente de testes\n",
        "\n",
        "Jupyter Notebook via Anaconda3 (iPython 3.7)\n",
        "\n",
        "\n",
        "---\n",
        "\n",
        "Windows 10 Home 64 Bits | Build 17763.292\n",
        "\n",
        "---\n",
        "\n",
        "Intel Core i5 8250U, 8-core @ 3,38 Ghz + 8GB RAM DDR4"
      ]
    },
    {
      "cell_type": "code",
      "metadata": {
        "id": "_1lWClXLYmCG",
        "colab_type": "code",
        "colab": {}
      },
      "source": [
        "# Importando as bibliotecas necessárias\n",
        "\n",
        "from random import randint\n",
        "import time\n",
        "import matplotlib.pyplot as plt"
      ],
      "execution_count": null,
      "outputs": []
    },
    {
      "cell_type": "code",
      "metadata": {
        "id": "FmngSXerYmCY",
        "colab_type": "code",
        "colab": {}
      },
      "source": [
        "def counting_sort(lista, maior_valor):\n",
        "  \n",
        "    m = maior_valor + 1\n",
        "    contagem = [0] * m  \n",
        "    \n",
        "    for i in lista:\n",
        "        contagem[i] += 1  \n",
        "   \n",
        "    i = 0\n",
        "    for j in range(m):           \n",
        "        for k in range(contagem[j]): \n",
        "            lista[i] = j\n",
        "            i += 1\n",
        "            \n",
        "    return lista\n"
      ],
      "execution_count": null,
      "outputs": []
    },
    {
      "cell_type": "code",
      "metadata": {
        "id": "jYVRnd0lYmCb",
        "colab_type": "code",
        "colab": {}
      },
      "source": [
        "def bubble_sort(lista):\n",
        "  \n",
        "    for i in range(len(lista)-1, 0, -1):\n",
        "        for j in range(i):\n",
        "            if lista[j] > lista[j + 1]:\n",
        "                lista[j], lista[j + 1] = lista[j + 1], lista[j]\n",
        "                \n",
        "    return lista"
      ],
      "execution_count": null,
      "outputs": []
    },
    {
      "cell_type": "code",
      "metadata": {
        "id": "ss4Sr4SPYmCj",
        "colab_type": "code",
        "colab": {}
      },
      "source": [
        "def insertion_sort(lista):\n",
        "  \n",
        "    for i in range(1, len(lista)):\n",
        "        j = lista[i]\n",
        "        k = i\n",
        "        \n",
        "        while k > 0 and lista[k - 1] > j:\n",
        "            lista[k] = lista[k - 1]\n",
        "            k = k - 1\n",
        "        lista[k] = j\n",
        "        \n",
        "    return lista\n",
        "    "
      ],
      "execution_count": null,
      "outputs": []
    },
    {
      "cell_type": "code",
      "metadata": {
        "id": "8TGDgojKYmCo",
        "colab_type": "code",
        "colab": {}
      },
      "source": [
        "def quicksort(lista, e, d):\n",
        "\n",
        "    def particao(lista, e, d, indice_pivot):\n",
        "        pivot = lista[indice_pivot]\n",
        "        lista[d], lista[indice_pivot] = lista[indice_pivot], lista[d]\n",
        "\n",
        "        indice_armazenado = e\n",
        "        for i in range(e, d):\n",
        "            if lista[i] < pivot:\n",
        "                lista[i], lista[indice_armazenado] = lista[indice_armazenado], lista[i]\n",
        "                indice_armazenado += 1\n",
        "\n",
        "        lista[indice_armazenado], lista[d] = lista[d], lista[indice_armazenado]\n",
        "        \n",
        "        return indice_armazenado\n",
        "    \n",
        "    if d > e:\n",
        "        indice_pivot = randint(e, d)\n",
        "        indice_pivot = particao(lista, e, d, indice_pivot)\n",
        "        quicksort(lista, e, indice_pivot)\n",
        "        quicksort(lista, indice_pivot + 1, d)\n",
        "\n",
        "    return lista\n",
        "\n",
        "def quick_sort(lista):\n",
        "    return quicksort(lista, 0, len(lista) - 1)\n"
      ],
      "execution_count": null,
      "outputs": []
    },
    {
      "cell_type": "code",
      "metadata": {
        "id": "f817P576YmCv",
        "colab_type": "code",
        "colab": {}
      },
      "source": [
        "def lista_aleatoria(tamanho, ordenacao):\n",
        "  \n",
        "    lista = []\n",
        "    \n",
        "    for x in range(tamanho):\n",
        "        lista.append(randint(0, randint(100, 1000)))\n",
        "    \n",
        "    if ordenacao == 'Crescente':\n",
        "        return sorted(lista)\n",
        "    elif ordenacao == 'Decrescente':\n",
        "        return sorted(lista, reverse=True)\n",
        "    elif ordenacao == 'Desordenado':\n",
        "        return lista"
      ],
      "execution_count": null,
      "outputs": []
    },
    {
      "cell_type": "code",
      "metadata": {
        "id": "vHxANwmtYmC1",
        "colab_type": "code",
        "colab": {}
      },
      "source": [
        "cs_crescente, bs_crescente, is_crescente, qs_crescente = [], [], [], []\n",
        "cs_decrescente, bs_decrescente, is_decrescente, qs_decrescente = [], [], [], []\n",
        "cs_desordenado, bs_desordenado, is_desordenado, qs_desordenado = [], [], [], []"
      ],
      "execution_count": null,
      "outputs": []
    }
  ]
}